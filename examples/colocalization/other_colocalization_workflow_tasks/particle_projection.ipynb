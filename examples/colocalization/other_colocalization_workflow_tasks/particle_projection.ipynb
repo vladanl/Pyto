{
 "cells": [
  {
   "cell_type": "markdown",
   "id": "8b188231-c6cc-4c49-b217-40c062a9d46a",
   "metadata": {},
   "source": [
    "# Particle projection example\n",
    "\n",
    "* Projects particles by distance, projection line and the combined distance and line projection method\n",
    "* Shows columns in particle tables that change during processing\n",
    "* All operations are performed in 3D\n",
    "\n",
    "Usage instructions:\n",
    "* To ensure everything works properly, all cells from this notebook have to be executed one by one, once each, in order\n",
    "* Cells that show images can be executed multipe times\n",
    "* If input files, or processing parameters are changed, all cells in the Projection section have to be executed one by one, once each, in order\n",
    "  \n",
    "Prerequisites: \n",
    "* Morphological smoothing example (notebook morphological_smoothing.ipynb) has to be executed once before running this notebook in order to generate image used here"
   ]
  },
  {
   "cell_type": "markdown",
   "id": "19799095-6112-406c-b262-2ca99012549e",
   "metadata": {},
   "source": [
    "## Initialization"
   ]
  },
  {
   "cell_type": "code",
   "execution_count": 1,
   "id": "4fa2b21e-610c-4485-98c8-608cff2d458f",
   "metadata": {},
   "outputs": [
    {
     "data": {
      "application/javascript": [
       "IPython.notebook.set_autosave_interval(0)"
      ]
     },
     "metadata": {},
     "output_type": "display_data"
    },
    {
     "name": "stdout",
     "output_type": "stream",
     "text": [
      "Autosave disabled\n"
     ]
    },
    {
     "data": {
      "text/plain": [
       "'3.13.3 | packaged by conda-forge | (main, Apr 14 2025, 20:44:03) [GCC 13.3.0]'"
      ]
     },
     "execution_count": 1,
     "metadata": {},
     "output_type": "execute_result"
    }
   ],
   "source": [
    "import sys\n",
    "import os\n",
    "\n",
    "import numpy as np\n",
    "import scipy as sp\n",
    "import pandas as pd \n",
    "import matplotlib as mpl\n",
    "import matplotlib.pyplot as plt\n",
    "\n",
    "import pyto\n",
    "from pyto.particles.relion_star import RelionStar\n",
    "from pyto.spatial.line_projection import LineProjection\n",
    "from pyto.spatial.multi_particle_sets import MultiParticleSets\n",
    "from pyto.spatial.mps_projection import MPSProjection\n",
    "\n",
    "from common import show_2d_slices \n",
    "\n",
    "# convenience\n",
    "%autosave 0\n",
    "sys.version"
   ]
  },
  {
   "cell_type": "code",
   "execution_count": 2,
   "id": "a11c2733-b683-4dbb-983b-9356e966d079",
   "metadata": {},
   "outputs": [
    {
     "name": "stdout",
     "output_type": "stream",
     "text": [
      "Host: rauna\n"
     ]
    }
   ],
   "source": [
    "# Settings\n",
    "\n",
    "# force showing all rows in a table (default 60 rows)\n",
    "pd.set_option('display.max_rows', None)\n",
    "pd.set_option('display.width', None)\n",
    "\n",
    "# set hostname\n",
    "hostname = os.uname()[1]\n",
    "print(f\"Host: {hostname}\")"
   ]
  },
  {
   "cell_type": "markdown",
   "id": "5e462489-1e04-415b-95ff-017ada01c3dc",
   "metadata": {},
   "source": [
    "### Definitions"
   ]
  },
  {
   "cell_type": "code",
   "execution_count": 3,
   "id": "6aecb091-686c-47d9-a655-743c19df3c58",
   "metadata": {},
   "outputs": [],
   "source": [
    "def pack_vectors(\n",
    "    particles, coordinate_cols=['x_orig', 'y_orig'],\n",
    "    angle_cols=['rlnAngleRot', 'rlnAngleTilt', 'rlnAnglePsi']):\n",
    "    \"\"\"Pack vector coords and directions for matplotlib quiver().\n",
    "\n",
    "    Coordinates are simply read from the table. Euler angles (in Relion\n",
    "    convention) are converted to spherical angles (so Rot angle\n",
    "    is ignored) and then to x and y projections of the unit vector \n",
    "    defined by the spherical angles.\n",
    "\n",
    "    Arguments:\n",
    "      - particles: (pandas.DataFrame) table containing particle \n",
    "        positions and angles\n",
    "      - coordinate_cols: (list, 2 elements) x and y coordinate \n",
    "        column names \n",
    "      - angle_cols: (list, 3 elements): Names of columns showing Euler \n",
    "        angles in Relion convention (Rot, Tilt and Psi, in this order)\n",
    "\n",
    "    Returns np.array, size 4 x n_particles) rows are x coordinate,\n",
    "    y coordinate, unit vector projection on and unit vector projection\n",
    "    on y axis (in this order). Columns show values for different\n",
    "    particles.\n",
    "    \"\"\"\n",
    "\n",
    "    # get coords\n",
    "    xy = particles[coordinate_cols].values\n",
    "\n",
    "    # get vector projections\n",
    "    lp = LineProjection(relion=True, reverse=False)\n",
    "    angles = particles.loc[:, angle_cols].values\n",
    "    phis = [lp.find_spherical(ang)[1]  * np.pi / 180 for ang in angles]\n",
    "    uv = np.asarray([[np.cos(ph), np.sin(ph)] for ph in phis])\n",
    "\n",
    "    # pack together\n",
    "    xyuv = np.hstack((xy, uv)).transpose()\n",
    "\n",
    "    return xyuv"
   ]
  },
  {
   "cell_type": "markdown",
   "id": "2c5b3cca-51a1-4035-b2e5-504401c726df",
   "metadata": {},
   "source": [
    "## Projection"
   ]
  },
  {
   "cell_type": "markdown",
   "id": "2f2b6884-917f-4d6d-a95a-8cfc4e1062ca",
   "metadata": {},
   "source": [
    "### Make region image"
   ]
  },
  {
   "cell_type": "code",
   "execution_count": 4,
   "id": "fff68bcd-9c3d-4983-869f-7aac572fd37c",
   "metadata": {},
   "outputs": [
    {
     "name": "stdout",
     "output_type": "stream",
     "text": [
      "Read image smooth/smooth.mrc\n",
      "Wrote image project/projection_region.mrc\n"
     ]
    }
   ],
   "source": [
    "# Make regions from the output image of the morphological \n",
    "# smoothing example \n",
    "\n",
    "# path to the morphologically smoothed region\n",
    "smooth_path = 'smooth/smooth.mrc'\n",
    "\n",
    "# path to the projection region image generated here\n",
    "projection_region_path = 'project/projection_region.mrc'\n",
    "\n",
    "# read smooth region image\n",
    "smooth = pyto.segmentation.Labels.read(file=smooth_path)\n",
    "print(f\"Read image {smooth_path}\")\n",
    "\n",
    "# make and save projection region image\n",
    "region = np.zeros((30, 30, 20), dtype=int)\n",
    "region[:25, :25, :] = (smooth.data[15:40, 23:48, :] > 1)\n",
    "image = pyto.segmentation.Labels(data=region)\n",
    "image.write(file=projection_region_path, dataType='int16')\n",
    "print(f\"Wrote image {projection_region_path}\")"
   ]
  },
  {
   "cell_type": "markdown",
   "id": "26fc8a1d-dcb9-4364-b3ab-3874b4ae3f20",
   "metadata": {},
   "source": [
    "### Read region image"
   ]
  },
  {
   "cell_type": "code",
   "execution_count": 5,
   "id": "7b83fa7f-5496-4e93-9761-b3f0746e0681",
   "metadata": {},
   "outputs": [
    {
     "name": "stdout",
     "output_type": "stream",
     "text": [
      "Read image project/projection_region.mrc\n"
     ]
    }
   ],
   "source": [
    "# Read a projection region image\n",
    "#\n",
    "# Can be used to read the image generated above, of any other\n",
    "# binary mrc image (tomo) that contains the projection region\n",
    "\n",
    "# path to a projection region image \n",
    "projection_region_path = 'project/projection_region.mrc'\n",
    "\n",
    "image = pyto.segmentation.Labels.read(file=projection_region_path)\n",
    "print(f\"Read image {projection_region_path}\")"
   ]
  },
  {
   "cell_type": "markdown",
   "id": "41bbb5a0-b722-473c-85a9-f081113f10cc",
   "metadata": {},
   "source": [
    "### Read particle data\n",
    "\n",
    "Only one of the two cells of this section should be executed"
   ]
  },
  {
   "cell_type": "code",
   "execution_count": 7,
   "id": "1fe8c7d9-b312-4b28-9fc4-1844ed4ee48e",
   "metadata": {},
   "outputs": [
    {
     "name": "stdout",
     "output_type": "stream",
     "text": [
      "Read  MPS object mps.pkl\n"
     ]
    }
   ],
   "source": [
    "# Alternative 1: Read pickled particle data object\n",
    "#\n",
    "# To be used when particle data are already provided as a\n",
    "# pyto.spatial.MultiParticleSets object\n",
    "\n",
    "# path to the MultiParticleSets object\n",
    "mps_path = \"mps.pkl\"\n",
    "\n",
    "mps = MultiParticleSets.read(path=mps_path)"
   ]
  },
  {
   "cell_type": "code",
   "execution_count": 6,
   "id": "a4842a91-d6b3-4205-80c2-5adc0d46e811",
   "metadata": {},
   "outputs": [
    {
     "name": "stdout",
     "output_type": "stream",
     "text": [
      "Read image particles.star\n"
     ]
    }
   ],
   "source": [
    "# Alternative 2: Read from star file and generate particles object \n",
    "#\n",
    "# To be used when particle data is available in a star file\n",
    "\n",
    "# star path\n",
    "star_path = 'particles.star'\n",
    "\n",
    "# star file table name\n",
    "table_name = 'data_particles'\n",
    "\n",
    "# initialize particle object and set star file related attributes\n",
    "mps = MultiParticleSets()\n",
    "mps.micrograph_label = 'rlnTomoName'\n",
    "mps.tablename = table_name\n",
    "mps.image_label = 'rlnTomoParticleId'\n",
    "\n",
    "# import star file data\n",
    "mps.particles = mps.read_star(\n",
    "    path=star_path, mode='particle', tomo_id_mode=None, \n",
    "    tablename=table_name, pixel_size_nm=1, find_region_shape=False)\n",
    "print(f\"Read image {star_path}\")\n",
    "mps.tomos = pd.DataFrame({\n",
    "    mps.tomo_id_col: mps.particles[mps.tomo_id_col].unique(),\n",
    "    mps.region_col: projection_region_path})"
   ]
  },
  {
   "cell_type": "markdown",
   "id": "98fe49a0-3349-4728-b811-d3d3afaa402c",
   "metadata": {},
   "source": [
    "### Show data"
   ]
  },
  {
   "cell_type": "code",
   "execution_count": 8,
   "id": "258926ea-40ed-46d2-8e6a-961a38c3b8cd",
   "metadata": {},
   "outputs": [
    {
     "data": {
      "text/html": [
       "<div>\n",
       "<style scoped>\n",
       "    .dataframe tbody tr th:only-of-type {\n",
       "        vertical-align: middle;\n",
       "    }\n",
       "\n",
       "    .dataframe tbody tr th {\n",
       "        vertical-align: top;\n",
       "    }\n",
       "\n",
       "    .dataframe thead th {\n",
       "        text-align: right;\n",
       "    }\n",
       "</style>\n",
       "<table border=\"1\" class=\"dataframe\">\n",
       "  <thead>\n",
       "    <tr style=\"text-align: right;\">\n",
       "      <th></th>\n",
       "      <th>tomo_id</th>\n",
       "      <th>region</th>\n",
       "    </tr>\n",
       "  </thead>\n",
       "  <tbody>\n",
       "    <tr>\n",
       "      <th>0</th>\n",
       "      <td>tomo_1-2</td>\n",
       "      <td>project/projection_region.mrc</td>\n",
       "    </tr>\n",
       "  </tbody>\n",
       "</table>\n",
       "</div>"
      ],
      "text/plain": [
       "    tomo_id                         region\n",
       "0  tomo_1-2  project/projection_region.mrc"
      ]
     },
     "execution_count": 8,
     "metadata": {},
     "output_type": "execute_result"
    }
   ],
   "source": [
    "# Show tomos table\n",
    "mps.tomos"
   ]
  },
  {
   "cell_type": "code",
   "execution_count": 9,
   "id": "9a00858d-123b-4971-946a-61c3a2d7e91e",
   "metadata": {},
   "outputs": [
    {
     "data": {
      "text/html": [
       "<div>\n",
       "<style scoped>\n",
       "    .dataframe tbody tr th:only-of-type {\n",
       "        vertical-align: middle;\n",
       "    }\n",
       "\n",
       "    .dataframe tbody tr th {\n",
       "        vertical-align: top;\n",
       "    }\n",
       "\n",
       "    .dataframe thead th {\n",
       "        text-align: right;\n",
       "    }\n",
       "</style>\n",
       "<table border=\"1\" class=\"dataframe\">\n",
       "  <thead>\n",
       "    <tr style=\"text-align: right;\">\n",
       "      <th></th>\n",
       "      <th>tomo_id</th>\n",
       "      <th>particle_id</th>\n",
       "      <th>x_orig</th>\n",
       "      <th>y_orig</th>\n",
       "      <th>z_orig</th>\n",
       "      <th>rlnAngleTilt</th>\n",
       "      <th>rlnAnglePsi</th>\n",
       "      <th>rlnAngleRot</th>\n",
       "    </tr>\n",
       "  </thead>\n",
       "  <tbody>\n",
       "    <tr>\n",
       "      <th>0</th>\n",
       "      <td>tomo_1-2</td>\n",
       "      <td>2</td>\n",
       "      <td>15</td>\n",
       "      <td>23</td>\n",
       "      <td>5</td>\n",
       "      <td>90.0</td>\n",
       "      <td>-45.0</td>\n",
       "      <td>0.0</td>\n",
       "    </tr>\n",
       "    <tr>\n",
       "      <th>1</th>\n",
       "      <td>tomo_1-2</td>\n",
       "      <td>5</td>\n",
       "      <td>20</td>\n",
       "      <td>15</td>\n",
       "      <td>5</td>\n",
       "      <td>90.0</td>\n",
       "      <td>290.0</td>\n",
       "      <td>0.0</td>\n",
       "    </tr>\n",
       "    <tr>\n",
       "      <th>2</th>\n",
       "      <td>tomo_1-2</td>\n",
       "      <td>6</td>\n",
       "      <td>27</td>\n",
       "      <td>10</td>\n",
       "      <td>5</td>\n",
       "      <td>90.0</td>\n",
       "      <td>250.0</td>\n",
       "      <td>0.0</td>\n",
       "    </tr>\n",
       "  </tbody>\n",
       "</table>\n",
       "</div>"
      ],
      "text/plain": [
       "    tomo_id  particle_id  x_orig  y_orig  z_orig  rlnAngleTilt  rlnAnglePsi  \\\n",
       "0  tomo_1-2            2      15      23       5          90.0        -45.0   \n",
       "1  tomo_1-2            5      20      15       5          90.0        290.0   \n",
       "2  tomo_1-2            6      27      10       5          90.0        250.0   \n",
       "\n",
       "   rlnAngleRot  \n",
       "0          0.0  \n",
       "1          0.0  \n",
       "2          0.0  "
      ]
     },
     "execution_count": 9,
     "metadata": {},
     "output_type": "execute_result"
    }
   ],
   "source": [
    "# Show particle coordinates and angles\n",
    "\n",
    "cols = (['tomo_id', 'particle_id'] + mps.orig_coord_cols\n",
    "        + ['rlnAngleTilt', 'rlnAnglePsi', 'rlnAngleRot'])\n",
    "mps.particles[cols]"
   ]
  },
  {
   "cell_type": "code",
   "execution_count": 10,
   "id": "b62952de-1990-49c8-81ac-a841c303cc3b",
   "metadata": {},
   "outputs": [
    {
     "data": {
      "image/png": "[encoded data removed]",
      "text/plain": [
       "<Figure size 400x400 with 1 Axes>"
      ]
     },
     "metadata": {},
     "output_type": "display_data"
    }
   ],
   "source": [
    "# Plot the projection region and original particles \n",
    "\n",
    "markersize = 50\n",
    "fig, axes = show_2d_slices(\n",
    "    image=region[:, :, 1:2], vmin=0, vmax=2, figheight=4)\n",
    "orig_coords = mps.particles[['x_orig', 'y_orig']].values\n",
    "axes.scatter(\n",
    "    orig_coords[:, 0], orig_coords[:, 1], color='m',\n",
    "    s=markersize, label='Original points')\n",
    "xyuv = pack_vectors(mps.particles)\n",
    "axes.quiver(*xyuv, scale=10, angles='xy')\n",
    "axes.legend()\n",
    "axes.set_title(\"Original particles\");"
   ]
  },
  {
   "cell_type": "markdown",
   "id": "ace528c5-4509-40b4-a89c-8d53325a35d7",
   "metadata": {},
   "source": [
    "### Project by distance"
   ]
  },
  {
   "cell_type": "code",
   "execution_count": 11,
   "id": "1e5cc3d6-d9da-4341-a3ba-e7d4465bd3df",
   "metadata": {},
   "outputs": [
    {
     "data": {
      "text/html": [
       "<div>\n",
       "<style scoped>\n",
       "    .dataframe tbody tr th:only-of-type {\n",
       "        vertical-align: middle;\n",
       "    }\n",
       "\n",
       "    .dataframe tbody tr th {\n",
       "        vertical-align: top;\n",
       "    }\n",
       "\n",
       "    .dataframe thead th {\n",
       "        text-align: right;\n",
       "    }\n",
       "</style>\n",
       "<table border=\"1\" class=\"dataframe\">\n",
       "  <thead>\n",
       "    <tr style=\"text-align: right;\">\n",
       "      <th></th>\n",
       "      <th>x_orig</th>\n",
       "      <th>y_orig</th>\n",
       "      <th>z_orig</th>\n",
       "      <th>x_reg_frame</th>\n",
       "      <th>y_reg_frame</th>\n",
       "      <th>z_reg_frame</th>\n",
       "    </tr>\n",
       "  </thead>\n",
       "  <tbody>\n",
       "    <tr>\n",
       "      <th>0</th>\n",
       "      <td>15</td>\n",
       "      <td>23</td>\n",
       "      <td>5</td>\n",
       "      <td>7</td>\n",
       "      <td>16</td>\n",
       "      <td>5</td>\n",
       "    </tr>\n",
       "    <tr>\n",
       "      <th>1</th>\n",
       "      <td>20</td>\n",
       "      <td>15</td>\n",
       "      <td>5</td>\n",
       "      <td>19</td>\n",
       "      <td>9</td>\n",
       "      <td>5</td>\n",
       "    </tr>\n",
       "    <tr>\n",
       "      <th>2</th>\n",
       "      <td>27</td>\n",
       "      <td>10</td>\n",
       "      <td>5</td>\n",
       "      <td>21</td>\n",
       "      <td>7</td>\n",
       "      <td>5</td>\n",
       "    </tr>\n",
       "  </tbody>\n",
       "</table>\n",
       "</div>"
      ],
      "text/plain": [
       "   x_orig  y_orig  z_orig  x_reg_frame  y_reg_frame  z_reg_frame\n",
       "0      15      23       5            7           16            5\n",
       "1      20      15       5           19            9            5\n",
       "2      27      10       5           21            7            5"
      ]
     },
     "execution_count": 11,
     "metadata": {},
     "output_type": "execute_result"
    }
   ],
   "source": [
    "# Project by min distance and show original and projected coordinates\n",
    "\n",
    "mps.orig_coord_reg_frame_cols = mps.orig_coord_cols\n",
    "mps.particles = mps.convert(\n",
    "    tomos=mps.tomos, particles=mps.particles, region_id=1)\n",
    "\n",
    "cols = mps.orig_coord_reg_frame_cols +  mps.coord_reg_frame_cols\n",
    "mps.particles[cols]"
   ]
  },
  {
   "cell_type": "code",
   "execution_count": 12,
   "id": "c1e1cb2a-c075-4a51-93d3-6a25e990c9b7",
   "metadata": {},
   "outputs": [
    {
     "data": {
      "image/png": "[encoded data removed]",
      "text/plain": [
       "<Figure size 400x400 with 1 Axes>"
      ]
     },
     "metadata": {},
     "output_type": "display_data"
    }
   ],
   "source": [
    "# Plot projection region and particles\n",
    "\n",
    "markersize = 50\n",
    "fig, axes = show_2d_slices(\n",
    "    image=region[:, :, 1:2], vmin=0, vmax=2, figheight=4)\n",
    "orig_coords = mps.particles[['x_orig', 'y_orig']].values\n",
    "axes.scatter(\n",
    "    orig_coords[:, 0], orig_coords[:, 1], color='m',\n",
    "    s=markersize, label='Original points')\n",
    "proj_coords = mps.particles[['x_reg_frame', 'y_reg_frame']].values\n",
    "axes.scatter(\n",
    "    proj_coords[:, 0], proj_coords[:, 1], color='c',\n",
    "    s=markersize, label='Projected points')\n",
    "\n",
    "axes.set_title(\"Projection by distance\")\n",
    "axes.legend();"
   ]
  },
  {
   "cell_type": "markdown",
   "id": "29cb5194-72ca-4d90-97b5-2dcca1b5fb65",
   "metadata": {},
   "source": [
    "### Project by line"
   ]
  },
  {
   "cell_type": "code",
   "execution_count": 13,
   "id": "351317b9-bd1d-4a3a-b635-767ea1ecb8c1",
   "metadata": {},
   "outputs": [
    {
     "data": {
      "text/html": [
       "<div>\n",
       "<style scoped>\n",
       "    .dataframe tbody tr th:only-of-type {\n",
       "        vertical-align: middle;\n",
       "    }\n",
       "\n",
       "    .dataframe tbody tr th {\n",
       "        vertical-align: top;\n",
       "    }\n",
       "\n",
       "    .dataframe thead th {\n",
       "        text-align: right;\n",
       "    }\n",
       "</style>\n",
       "<table border=\"1\" class=\"dataframe\">\n",
       "  <thead>\n",
       "    <tr style=\"text-align: right;\">\n",
       "      <th></th>\n",
       "      <th>tomo_id</th>\n",
       "      <th>particle_id</th>\n",
       "      <th>x_orig</th>\n",
       "      <th>y_orig</th>\n",
       "      <th>z_orig</th>\n",
       "      <th>x_linep_1</th>\n",
       "      <th>y_linep_1</th>\n",
       "      <th>z_linep_1</th>\n",
       "      <th>linep_dist_1</th>\n",
       "      <th>x_linep_2</th>\n",
       "      <th>y_linep_2</th>\n",
       "      <th>z_linep_2</th>\n",
       "      <th>linep_dist_2</th>\n",
       "      <th>x_linep_3</th>\n",
       "      <th>y_linep_3</th>\n",
       "      <th>z_linep_3</th>\n",
       "      <th>linep_dist_3</th>\n",
       "    </tr>\n",
       "  </thead>\n",
       "  <tbody>\n",
       "    <tr>\n",
       "      <th>0</th>\n",
       "      <td>tomo_1-2</td>\n",
       "      <td>2</td>\n",
       "      <td>15</td>\n",
       "      <td>23</td>\n",
       "      <td>5</td>\n",
       "      <td>8</td>\n",
       "      <td>15</td>\n",
       "      <td>5</td>\n",
       "      <td>10.630146</td>\n",
       "      <td>8</td>\n",
       "      <td>15</td>\n",
       "      <td>5</td>\n",
       "      <td>10.630146</td>\n",
       "      <td>7</td>\n",
       "      <td>16</td>\n",
       "      <td>5</td>\n",
       "      <td>10.630146</td>\n",
       "    </tr>\n",
       "    <tr>\n",
       "      <th>1</th>\n",
       "      <td>tomo_1-2</td>\n",
       "      <td>5</td>\n",
       "      <td>20</td>\n",
       "      <td>15</td>\n",
       "      <td>5</td>\n",
       "      <td>18</td>\n",
       "      <td>9</td>\n",
       "      <td>5</td>\n",
       "      <td>6.324555</td>\n",
       "      <td>18</td>\n",
       "      <td>9</td>\n",
       "      <td>5</td>\n",
       "      <td>6.324555</td>\n",
       "      <td>19</td>\n",
       "      <td>9</td>\n",
       "      <td>5</td>\n",
       "      <td>6.082763</td>\n",
       "    </tr>\n",
       "    <tr>\n",
       "      <th>2</th>\n",
       "      <td>tomo_1-2</td>\n",
       "      <td>6</td>\n",
       "      <td>27</td>\n",
       "      <td>10</td>\n",
       "      <td>5</td>\n",
       "      <td>-1</td>\n",
       "      <td>-1</td>\n",
       "      <td>-1</td>\n",
       "      <td>30.675723</td>\n",
       "      <td>-1</td>\n",
       "      <td>-1</td>\n",
       "      <td>-1</td>\n",
       "      <td>30.675723</td>\n",
       "      <td>-1</td>\n",
       "      <td>-1</td>\n",
       "      <td>-1</td>\n",
       "      <td>30.675723</td>\n",
       "    </tr>\n",
       "  </tbody>\n",
       "</table>\n",
       "</div>"
      ],
      "text/plain": [
       "    tomo_id  particle_id  x_orig  y_orig  z_orig  x_linep_1  y_linep_1  \\\n",
       "0  tomo_1-2            2      15      23       5          8         15   \n",
       "1  tomo_1-2            5      20      15       5         18          9   \n",
       "2  tomo_1-2            6      27      10       5         -1         -1   \n",
       "\n",
       "   z_linep_1  linep_dist_1  x_linep_2  y_linep_2  z_linep_2  linep_dist_2  \\\n",
       "0          5     10.630146          8         15          5     10.630146   \n",
       "1          5      6.324555         18          9          5      6.324555   \n",
       "2         -1     30.675723         -1         -1         -1     30.675723   \n",
       "\n",
       "   x_linep_3  y_linep_3  z_linep_3  linep_dist_3  \n",
       "0          7         16          5     10.630146  \n",
       "1         19          9          5      6.082763  \n",
       "2         -1         -1         -1     30.675723  "
      ]
     },
     "execution_count": 13,
     "metadata": {},
     "output_type": "execute_result"
    }
   ],
   "source": [
    "# Project by line and show projection coordinates and distance\n",
    "\n",
    "# membrane normal projection radius (half-width) [pixel]\n",
    "line_projection_width = [1, 2, 3]\n",
    "\n",
    "# line projection distance range [pixel]\n",
    "line_projection_distance = np.arange(50)\n",
    "\n",
    "# reverse the direction of membrane normals\n",
    "line_projection_reverse = False\n",
    "\n",
    "# project by line\n",
    "mps_project = MPSProjection(\n",
    "    line_spreads=line_projection_width, not_found=[-1, -1, -1])\n",
    "mps_project.project_multi(\n",
    "    mps=mps, coord_cols=mps.orig_coord_cols, \n",
    "    distance=line_projection_distance, reverse=line_projection_reverse)\n",
    "\n",
    "cols = (\n",
    "    ['tomo_id', 'particle_id'] +  mps.orig_coord_reg_frame_cols\n",
    "    + [f\"{name}_{num}\" \n",
    "           for num in line_projection_width\n",
    "           for name in ['x_linep', 'y_linep', 'z_linep', 'linep_dist']])\n",
    "mps.particles[cols]"
   ]
  },
  {
   "cell_type": "code",
   "execution_count": 14,
   "id": "d49c9f69-783f-42e9-9192-2ce5d7dd3a51",
   "metadata": {},
   "outputs": [
    {
     "data": {
      "image/png": "[encoded data removed]",
      "text/plain": [
       "<Figure size 400x400 with 1 Axes>"
      ]
     },
     "metadata": {},
     "output_type": "display_data"
    }
   ],
   "source": [
    "# Plot projection region and particles\n",
    "\n",
    "# size of the particle marker\n",
    "markersize = 50\n",
    "\n",
    "# plot\n",
    "fig, axes = show_2d_slices(\n",
    "    image=region[:, :, 1:2], vmin=0, vmax=2, figheight=4)\n",
    "orig_coords = mps.particles[['x_orig', 'y_orig']].values\n",
    "axes.scatter(\n",
    "    orig_coords[:, 0], orig_coords[:, 1], color='m',\n",
    "    s=markersize, label='Original points')\n",
    "proj_coords = mps.particles[['x_linep_1', 'y_linep_1']].values\n",
    "axes.scatter(\n",
    "    proj_coords[:, 0], proj_coords[:, 1], color='c',\n",
    "    s=markersize, label='Projected points')\n",
    "xyuv = pack_vectors(mps.particles)\n",
    "axes.quiver(*xyuv, scale=10, angles='xy')\n",
    "axes.legend()\n",
    "axes.set_title(\"Line projection\");"
   ]
  },
  {
   "cell_type": "markdown",
   "id": "a5a5e389-fdd2-4903-8bea-8ac25b376cb5",
   "metadata": {},
   "source": [
    "### Combine distance and line projections"
   ]
  },
  {
   "cell_type": "code",
   "execution_count": 15,
   "id": "499b96b9-d415-43f4-8764-d0be96309017",
   "metadata": {},
   "outputs": [],
   "source": [
    "# Find optimal projection and calculate distances\n",
    "\n",
    "# max projection distance [pixels]\n",
    "project_dist_max = 40\n",
    "\n",
    "# projection distances column name\n",
    "project_dist_col = 'project_dist'\n",
    "\n",
    "# combine normal projections with min-distance projections and find the optimal \n",
    "project_analysis = mps_project.find_best_projections(\n",
    "    mps=mps, distance_cols=mps.coord_reg_frame_cols)\n",
    "\n",
    "# calculate distances and exclude those >project_dist_max\n",
    "mps.short_projected(\n",
    "    project_dist_col=project_dist_col, project_dist_max=project_dist_max,\n",
    "    keep_project_dist_col=mps.keep_col, projected_cols=mps.coord_reg_frame_cols,\n",
    "    non_projected_cols=mps.orig_coord_reg_frame_cols)"
   ]
  },
  {
   "cell_type": "code",
   "execution_count": 16,
   "id": "cb05a7e3-d037-4dff-868a-513b3c2a31e5",
   "metadata": {},
   "outputs": [
    {
     "data": {
      "text/html": [
       "<div>\n",
       "<style scoped>\n",
       "    .dataframe tbody tr th:only-of-type {\n",
       "        vertical-align: middle;\n",
       "    }\n",
       "\n",
       "    .dataframe tbody tr th {\n",
       "        vertical-align: top;\n",
       "    }\n",
       "\n",
       "    .dataframe thead th {\n",
       "        text-align: right;\n",
       "    }\n",
       "</style>\n",
       "<table border=\"1\" class=\"dataframe\">\n",
       "  <thead>\n",
       "    <tr style=\"text-align: right;\">\n",
       "      <th></th>\n",
       "      <th>tomo_id</th>\n",
       "      <th>total</th>\n",
       "      <th>unique_1</th>\n",
       "      <th>missed_1</th>\n",
       "      <th>same_1</th>\n",
       "      <th>unique_comb_1</th>\n",
       "      <th>same_comb_1</th>\n",
       "      <th>unique_2</th>\n",
       "      <th>missed_2</th>\n",
       "      <th>same_2</th>\n",
       "      <th>unique_comb_2</th>\n",
       "      <th>same_comb_2</th>\n",
       "      <th>unique_3</th>\n",
       "      <th>missed_3</th>\n",
       "      <th>same_3</th>\n",
       "      <th>unique_comb_3</th>\n",
       "      <th>same_comb_3</th>\n",
       "      <th>best_spread</th>\n",
       "    </tr>\n",
       "  </thead>\n",
       "  <tbody>\n",
       "    <tr>\n",
       "      <th>0</th>\n",
       "      <td>tomo_1-2</td>\n",
       "      <td>3</td>\n",
       "      <td>2</td>\n",
       "      <td>1</td>\n",
       "      <td>0</td>\n",
       "      <td>3</td>\n",
       "      <td>0</td>\n",
       "      <td>2</td>\n",
       "      <td>1</td>\n",
       "      <td>0</td>\n",
       "      <td>3</td>\n",
       "      <td>0</td>\n",
       "      <td>2</td>\n",
       "      <td>1</td>\n",
       "      <td>0</td>\n",
       "      <td>3</td>\n",
       "      <td>0</td>\n",
       "      <td>1</td>\n",
       "    </tr>\n",
       "  </tbody>\n",
       "</table>\n",
       "</div>"
      ],
      "text/plain": [
       "    tomo_id  total  unique_1  missed_1  same_1  unique_comb_1  same_comb_1  \\\n",
       "0  tomo_1-2      3         2         1       0              3            0   \n",
       "\n",
       "   unique_2  missed_2  same_2  unique_comb_2  same_comb_2  unique_3  missed_3  \\\n",
       "0         2         1       0              3            0         2         1   \n",
       "\n",
       "   same_3  unique_comb_3  same_comb_3  best_spread  \n",
       "0       0              3            0            1  "
      ]
     },
     "execution_count": 16,
     "metadata": {},
     "output_type": "execute_result"
    }
   ],
   "source": [
    "# show summary of parojections\n",
    "project_analysis"
   ]
  },
  {
   "cell_type": "code",
   "execution_count": 17,
   "id": "1f6b0f4f-66c8-45f2-9978-baa915d68a96",
   "metadata": {},
   "outputs": [
    {
     "data": {
      "text/html": [
       "<div>\n",
       "<style scoped>\n",
       "    .dataframe tbody tr th:only-of-type {\n",
       "        vertical-align: middle;\n",
       "    }\n",
       "\n",
       "    .dataframe tbody tr th {\n",
       "        vertical-align: top;\n",
       "    }\n",
       "\n",
       "    .dataframe thead th {\n",
       "        text-align: right;\n",
       "    }\n",
       "</style>\n",
       "<table border=\"1\" class=\"dataframe\">\n",
       "  <thead>\n",
       "    <tr style=\"text-align: right;\">\n",
       "      <th></th>\n",
       "      <th>tomo_id</th>\n",
       "      <th>particle_id</th>\n",
       "      <th>x_orig</th>\n",
       "      <th>y_orig</th>\n",
       "      <th>z_orig</th>\n",
       "      <th>x_combp</th>\n",
       "      <th>y_combp</th>\n",
       "      <th>z_combp</th>\n",
       "      <th>project_dist</th>\n",
       "    </tr>\n",
       "  </thead>\n",
       "  <tbody>\n",
       "    <tr>\n",
       "      <th>0</th>\n",
       "      <td>tomo_1-2</td>\n",
       "      <td>2</td>\n",
       "      <td>15</td>\n",
       "      <td>23</td>\n",
       "      <td>5</td>\n",
       "      <td>8</td>\n",
       "      <td>15</td>\n",
       "      <td>5</td>\n",
       "      <td>10.630146</td>\n",
       "    </tr>\n",
       "    <tr>\n",
       "      <th>1</th>\n",
       "      <td>tomo_1-2</td>\n",
       "      <td>5</td>\n",
       "      <td>20</td>\n",
       "      <td>15</td>\n",
       "      <td>5</td>\n",
       "      <td>18</td>\n",
       "      <td>9</td>\n",
       "      <td>5</td>\n",
       "      <td>6.082763</td>\n",
       "    </tr>\n",
       "    <tr>\n",
       "      <th>2</th>\n",
       "      <td>tomo_1-2</td>\n",
       "      <td>6</td>\n",
       "      <td>27</td>\n",
       "      <td>10</td>\n",
       "      <td>5</td>\n",
       "      <td>21</td>\n",
       "      <td>7</td>\n",
       "      <td>5</td>\n",
       "      <td>6.708204</td>\n",
       "    </tr>\n",
       "  </tbody>\n",
       "</table>\n",
       "</div>"
      ],
      "text/plain": [
       "    tomo_id  particle_id  x_orig  y_orig  z_orig  x_combp  y_combp  z_combp  \\\n",
       "0  tomo_1-2            2      15      23       5        8       15        5   \n",
       "1  tomo_1-2            5      20      15       5       18        9        5   \n",
       "2  tomo_1-2            6      27      10       5       21        7        5   \n",
       "\n",
       "   project_dist  \n",
       "0     10.630146  \n",
       "1      6.082763  \n",
       "2      6.708204  "
      ]
     },
     "execution_count": 17,
     "metadata": {},
     "output_type": "execute_result"
    }
   ],
   "source": [
    "# Show distance related columns\n",
    "\n",
    "cols = (\n",
    "   ['tomo_id', 'particle_id'] +  mps.orig_coord_reg_frame_cols\n",
    "    + ['x_combp', 'y_combp', 'z_combp'] + [project_dist_col])\n",
    "mps.particles[cols]"
   ]
  },
  {
   "cell_type": "code",
   "execution_count": 18,
   "id": "1ff51b76-e761-47d9-93f1-b760988d61d6",
   "metadata": {},
   "outputs": [
    {
     "data": {
      "image/png": "[encoded data removed]",
      "text/plain": [
       "<Figure size 400x400 with 1 Axes>"
      ]
     },
     "metadata": {},
     "output_type": "display_data"
    }
   ],
   "source": [
    "# Plot projection region and particles\n",
    "\n",
    "markersize = 50\n",
    "fig, axes = show_2d_slices(\n",
    "    image=region[:, :, 1:2], vmin=0, vmax=2, figheight=4)\n",
    "orig_coords = mps.particles[['x_orig', 'y_orig']].values\n",
    "axes.scatter(\n",
    "    orig_coords[:, 0], orig_coords[:, 1], color='m',\n",
    "    s=markersize, label='Original points')\n",
    "proj_coords = mps.particles[['x_combp', 'y_combp']].values\n",
    "axes.scatter(\n",
    "    proj_coords[:, 0], proj_coords[:, 1], color='c',\n",
    "    s=markersize, label='Projected points')\n",
    "axes.legend()\n",
    "axes.set_title(\"Combined projection\");"
   ]
  },
  {
   "cell_type": "markdown",
   "id": "b39b9871-736e-4cf4-a317-bff3f19cb82e",
   "metadata": {},
   "source": [
    "### Save projected particle data\n",
    "\n",
    "* Useful for further processing"
   ]
  },
  {
   "cell_type": "code",
   "execution_count": 19,
   "id": "90c2fe50-134c-4d2f-8897-6307147807e0",
   "metadata": {},
   "outputs": [
    {
     "name": "stdout",
     "output_type": "stream",
     "text": [
      "Pickled  MPS object to project/mps_results.pkl\n"
     ]
    }
   ],
   "source": [
    "# Alternative 1: Save as MultiParticleSets object\n",
    "# Contains projection results and the original particle data\n",
    "#\n",
    "# Useful for further Pyto and Pyseg processing\n",
    "\n",
    "# path to the output MPS oject\n",
    "mps_out_path = 'project/mps_results.pkl'\n",
    "\n",
    "mps.write(path=mps_out_path)"
   ]
  },
  {
   "cell_type": "code",
   "execution_count": 20,
   "id": "59a85cf8-7746-42e1-8699-d4f5ec5ce471",
   "metadata": {},
   "outputs": [
    {
     "name": "stdout",
     "output_type": "stream",
     "text": [
      "Wrote star file: project/particles_projected.star\n"
     ]
    }
   ],
   "source": [
    "# Alternative 2: Save as star file\n",
    "# Makes star file that is identical to the input star file, except \n",
    "# that the x, y and z coordinates are replaced by the projected ones\n",
    "#\n",
    "# Useful when further processing requires a star file input\n",
    "#\n",
    "# Requires that star_path and table_name are previously defined \n",
    "# (e.g.\n",
    "\n",
    "# path to the output star file\n",
    "star_out_path = 'project/particles_projected.star'\n",
    "\n",
    "# projected particle coodrdinate columns\n",
    "projected_cols = ['x_combp', 'y_combp', 'z_combp']\n",
    "\n",
    "# read star\n",
    "rs = pyto.particles.RelionStar()\n",
    "rs.parse(starfile=star_path, tablename=table_name)\n",
    "\n",
    "# update coordinates to the projected ones\n",
    "star_labels = ['rlnCoordinateX',\t'rlnCoordinateY',\t'rlnCoordinateZ']\n",
    "rs.data[star_labels] = mps.particles[projected_cols]\n",
    "\n",
    "# save star\n",
    "rs.write(starfile=star_out_path, verbose=True)"
   ]
  },
  {
   "cell_type": "code",
   "execution_count": null,
   "id": "28725001-7b2a-4cbd-804c-89ce91d19992",
   "metadata": {},
   "outputs": [],
   "source": []
  }
 ],
 "metadata": {
  "kernelspec": {
   "display_name": "Python [conda env:local-py-3.13]",
   "language": "python",
   "name": "conda-env-local-py-3.13-py"
  },
  "language_info": {
   "codemirror_mode": {
    "name": "ipython",
    "version": 3
   },
   "file_extension": ".py",
   "mimetype": "text/x-python",
   "name": "python",
   "nbconvert_exporter": "python",
   "pygments_lexer": "ipython3",
   "version": "3.13.3"
  }
 },
 "nbformat": 4,
 "nbformat_minor": 5
}
